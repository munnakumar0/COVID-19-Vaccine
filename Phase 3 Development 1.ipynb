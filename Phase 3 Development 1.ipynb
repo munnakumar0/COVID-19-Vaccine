{
 "cells": [
  {
   "cell_type": "markdown",
   "id": "fca3f9f7",
   "metadata": {
    "papermill": {
     "duration": 0.007287,
     "end_time": "2022-10-04T22:21:04.397159",
     "exception": false,
     "start_time": "2022-10-04T22:21:04.389872",
     "status": "completed"
    },
    "tags": []
   },
   "source": [
    "<a id='1'></a>\n",
    "## **Preprocessing data**"
   ]
  },
  {
   "cell_type": "code",
   "execution_count": 1,
   "id": "3951bb8b",
   "metadata": {
    "execution": {
     "iopub.execute_input": "2022-10-04T22:21:04.414875Z",
     "iopub.status.busy": "2022-10-04T22:21:04.413950Z",
     "iopub.status.idle": "2022-10-04T22:21:06.655764Z",
     "shell.execute_reply": "2022-10-04T22:21:06.654597Z"
    },
    "papermill": {
     "duration": 2.254217,
     "end_time": "2022-10-04T22:21:06.658848",
     "exception": false,
     "start_time": "2022-10-04T22:21:04.404631",
     "status": "completed"
    },
    "tags": []
   },
   "outputs": [],
   "source": [
    "# import libraries\n",
    "import pandas as pd\n",
    "import numpy as np\n",
    "import matplotlib.pyplot as plt\n",
    "import seaborn as sns\n",
    "import plotly.express as px\n",
    "\n",
    "plt.rc('font', size=10)  \n",
    "%matplotlib inline"
   ]
  },
  {
   "cell_type": "code",
   "execution_count": 2,
   "id": "15dacb3c",
   "metadata": {
    "execution": {
     "iopub.execute_input": "2022-10-04T22:21:06.676537Z",
     "iopub.status.busy": "2022-10-04T22:21:06.676057Z",
     "iopub.status.idle": "2022-10-04T22:21:07.264195Z",
     "shell.execute_reply": "2022-10-04T22:21:07.262944Z"
    },
    "papermill": {
     "duration": 0.601087,
     "end_time": "2022-10-04T22:21:07.267825",
     "exception": false,
     "start_time": "2022-10-04T22:21:06.666738",
     "status": "completed"
    },
    "tags": []
   },
   "outputs": [
    {
     "name": "stdout",
     "output_type": "stream",
     "text": [
      "<class 'pandas.core.frame.DataFrame'>\n",
      "RangeIndex: 35623 entries, 0 to 35622\n",
      "Data columns (total 4 columns):\n",
      " #   Column              Non-Null Count  Dtype \n",
      "---  ------              --------------  ----- \n",
      " 0   location            35623 non-null  object\n",
      " 1   date                35623 non-null  object\n",
      " 2   vaccine             35623 non-null  object\n",
      " 3   total_vaccinations  35623 non-null  int64 \n",
      "dtypes: int64(1), object(3)\n",
      "memory usage: 1.1+ MB\n"
     ]
    }
   ],
   "source": [
    "# import dataset from CSV\n",
    "vac = '../input/covid-world-vaccination-progress/country_vaccinations.csv'\n",
    "manu = '../input/covid-world-vaccination-progress/country_vaccinations_by_manufacturer.csv'\n",
    "df_vac = pd.read_csv(vac, parse_dates= ['date'])\n",
    "df_manu = pd.read_csv(manu, parse_dates = [])\n",
    "df_manu.info()"
   ]
  },
  {
   "cell_type": "code",
   "execution_count": 3,
   "id": "87bf4ae7",
   "metadata": {
    "execution": {
     "iopub.execute_input": "2022-10-04T22:21:07.286817Z",
     "iopub.status.busy": "2022-10-04T22:21:07.286344Z",
     "iopub.status.idle": "2022-10-04T22:21:07.316849Z",
     "shell.execute_reply": "2022-10-04T22:21:07.315268Z"
    },
    "papermill": {
     "duration": 0.042411,
     "end_time": "2022-10-04T22:21:07.319541",
     "exception": false,
     "start_time": "2022-10-04T22:21:07.277130",
     "status": "completed"
    },
    "tags": []
   },
   "outputs": [
    {
     "data": {
      "text/html": [
       "<div>\n",
       "<style scoped>\n",
       "    .dataframe tbody tr th:only-of-type {\n",
       "        vertical-align: middle;\n",
       "    }\n",
       "\n",
       "    .dataframe tbody tr th {\n",
       "        vertical-align: top;\n",
       "    }\n",
       "\n",
       "    .dataframe thead th {\n",
       "        text-align: right;\n",
       "    }\n",
       "</style>\n",
       "<table border=\"1\" class=\"dataframe\">\n",
       "  <thead>\n",
       "    <tr style=\"text-align: right;\">\n",
       "      <th></th>\n",
       "      <th>country</th>\n",
       "      <th>iso_code</th>\n",
       "      <th>date</th>\n",
       "      <th>total_vaccinations</th>\n",
       "      <th>people_vaccinated</th>\n",
       "      <th>people_fully_vaccinated</th>\n",
       "      <th>daily_vaccinations_raw</th>\n",
       "      <th>daily_vaccinations</th>\n",
       "      <th>total_vaccinations_per_hundred</th>\n",
       "      <th>people_vaccinated_per_hundred</th>\n",
       "      <th>people_fully_vaccinated_per_hundred</th>\n",
       "      <th>daily_vaccinations_per_million</th>\n",
       "      <th>vaccines</th>\n",
       "      <th>source_name</th>\n",
       "      <th>source_website</th>\n",
       "    </tr>\n",
       "  </thead>\n",
       "  <tbody>\n",
       "    <tr>\n",
       "      <th>86507</th>\n",
       "      <td>Zimbabwe</td>\n",
       "      <td>ZWE</td>\n",
       "      <td>2022-03-25</td>\n",
       "      <td>8691642.0</td>\n",
       "      <td>4814582.0</td>\n",
       "      <td>3473523.0</td>\n",
       "      <td>139213.0</td>\n",
       "      <td>69579.0</td>\n",
       "      <td>57.59</td>\n",
       "      <td>31.90</td>\n",
       "      <td>23.02</td>\n",
       "      <td>4610.0</td>\n",
       "      <td>Oxford/AstraZeneca, Sinopharm/Beijing, Sinovac...</td>\n",
       "      <td>Ministry of Health</td>\n",
       "      <td>https://www.arcgis.com/home/webmap/viewer.html...</td>\n",
       "    </tr>\n",
       "    <tr>\n",
       "      <th>86508</th>\n",
       "      <td>Zimbabwe</td>\n",
       "      <td>ZWE</td>\n",
       "      <td>2022-03-26</td>\n",
       "      <td>8791728.0</td>\n",
       "      <td>4886242.0</td>\n",
       "      <td>3487962.0</td>\n",
       "      <td>100086.0</td>\n",
       "      <td>83429.0</td>\n",
       "      <td>58.25</td>\n",
       "      <td>32.38</td>\n",
       "      <td>23.11</td>\n",
       "      <td>5528.0</td>\n",
       "      <td>Oxford/AstraZeneca, Sinopharm/Beijing, Sinovac...</td>\n",
       "      <td>Ministry of Health</td>\n",
       "      <td>https://www.arcgis.com/home/webmap/viewer.html...</td>\n",
       "    </tr>\n",
       "    <tr>\n",
       "      <th>86509</th>\n",
       "      <td>Zimbabwe</td>\n",
       "      <td>ZWE</td>\n",
       "      <td>2022-03-27</td>\n",
       "      <td>8845039.0</td>\n",
       "      <td>4918147.0</td>\n",
       "      <td>3493763.0</td>\n",
       "      <td>53311.0</td>\n",
       "      <td>90629.0</td>\n",
       "      <td>58.61</td>\n",
       "      <td>32.59</td>\n",
       "      <td>23.15</td>\n",
       "      <td>6005.0</td>\n",
       "      <td>Oxford/AstraZeneca, Sinopharm/Beijing, Sinovac...</td>\n",
       "      <td>Ministry of Health</td>\n",
       "      <td>https://www.arcgis.com/home/webmap/viewer.html...</td>\n",
       "    </tr>\n",
       "    <tr>\n",
       "      <th>86510</th>\n",
       "      <td>Zimbabwe</td>\n",
       "      <td>ZWE</td>\n",
       "      <td>2022-03-28</td>\n",
       "      <td>8934360.0</td>\n",
       "      <td>4975433.0</td>\n",
       "      <td>3501493.0</td>\n",
       "      <td>89321.0</td>\n",
       "      <td>100614.0</td>\n",
       "      <td>59.20</td>\n",
       "      <td>32.97</td>\n",
       "      <td>23.20</td>\n",
       "      <td>6667.0</td>\n",
       "      <td>Oxford/AstraZeneca, Sinopharm/Beijing, Sinovac...</td>\n",
       "      <td>Ministry of Health</td>\n",
       "      <td>https://www.arcgis.com/home/webmap/viewer.html...</td>\n",
       "    </tr>\n",
       "    <tr>\n",
       "      <th>86511</th>\n",
       "      <td>Zimbabwe</td>\n",
       "      <td>ZWE</td>\n",
       "      <td>2022-03-29</td>\n",
       "      <td>9039729.0</td>\n",
       "      <td>5053114.0</td>\n",
       "      <td>3510256.0</td>\n",
       "      <td>105369.0</td>\n",
       "      <td>103751.0</td>\n",
       "      <td>59.90</td>\n",
       "      <td>33.48</td>\n",
       "      <td>23.26</td>\n",
       "      <td>6874.0</td>\n",
       "      <td>Oxford/AstraZeneca, Sinopharm/Beijing, Sinovac...</td>\n",
       "      <td>Ministry of Health</td>\n",
       "      <td>https://www.arcgis.com/home/webmap/viewer.html...</td>\n",
       "    </tr>\n",
       "  </tbody>\n",
       "</table>\n",
       "</div>"
      ],
      "text/plain": [
       "        country iso_code       date  total_vaccinations  people_vaccinated  \\\n",
       "86507  Zimbabwe      ZWE 2022-03-25           8691642.0          4814582.0   \n",
       "86508  Zimbabwe      ZWE 2022-03-26           8791728.0          4886242.0   \n",
       "86509  Zimbabwe      ZWE 2022-03-27           8845039.0          4918147.0   \n",
       "86510  Zimbabwe      ZWE 2022-03-28           8934360.0          4975433.0   \n",
       "86511  Zimbabwe      ZWE 2022-03-29           9039729.0          5053114.0   \n",
       "\n",
       "       people_fully_vaccinated  daily_vaccinations_raw  daily_vaccinations  \\\n",
       "86507                3473523.0                139213.0             69579.0   \n",
       "86508                3487962.0                100086.0             83429.0   \n",
       "86509                3493763.0                 53311.0             90629.0   \n",
       "86510                3501493.0                 89321.0            100614.0   \n",
       "86511                3510256.0                105369.0            103751.0   \n",
       "\n",
       "       total_vaccinations_per_hundred  people_vaccinated_per_hundred  \\\n",
       "86507                           57.59                          31.90   \n",
       "86508                           58.25                          32.38   \n",
       "86509                           58.61                          32.59   \n",
       "86510                           59.20                          32.97   \n",
       "86511                           59.90                          33.48   \n",
       "\n",
       "       people_fully_vaccinated_per_hundred  daily_vaccinations_per_million  \\\n",
       "86507                                23.02                          4610.0   \n",
       "86508                                23.11                          5528.0   \n",
       "86509                                23.15                          6005.0   \n",
       "86510                                23.20                          6667.0   \n",
       "86511                                23.26                          6874.0   \n",
       "\n",
       "                                                vaccines         source_name  \\\n",
       "86507  Oxford/AstraZeneca, Sinopharm/Beijing, Sinovac...  Ministry of Health   \n",
       "86508  Oxford/AstraZeneca, Sinopharm/Beijing, Sinovac...  Ministry of Health   \n",
       "86509  Oxford/AstraZeneca, Sinopharm/Beijing, Sinovac...  Ministry of Health   \n",
       "86510  Oxford/AstraZeneca, Sinopharm/Beijing, Sinovac...  Ministry of Health   \n",
       "86511  Oxford/AstraZeneca, Sinopharm/Beijing, Sinovac...  Ministry of Health   \n",
       "\n",
       "                                          source_website  \n",
       "86507  https://www.arcgis.com/home/webmap/viewer.html...  \n",
       "86508  https://www.arcgis.com/home/webmap/viewer.html...  \n",
       "86509  https://www.arcgis.com/home/webmap/viewer.html...  \n",
       "86510  https://www.arcgis.com/home/webmap/viewer.html...  \n",
       "86511  https://www.arcgis.com/home/webmap/viewer.html...  "
      ]
     },
     "execution_count": 3,
     "metadata": {},
     "output_type": "execute_result"
    }
   ],
   "source": [
    "df_vac.tail(5)"
   ]
  },
  {
   "cell_type": "code",
   "execution_count": 4,
   "id": "c72305b9",
   "metadata": {
    "execution": {
     "iopub.execute_input": "2022-10-04T22:21:07.337227Z",
     "iopub.status.busy": "2022-10-04T22:21:07.336745Z",
     "iopub.status.idle": "2022-10-04T22:21:07.348878Z",
     "shell.execute_reply": "2022-10-04T22:21:07.347787Z"
    },
    "papermill": {
     "duration": 0.023821,
     "end_time": "2022-10-04T22:21:07.351317",
     "exception": false,
     "start_time": "2022-10-04T22:21:07.327496",
     "status": "completed"
    },
    "tags": []
   },
   "outputs": [
    {
     "data": {
      "text/html": [
       "<div>\n",
       "<style scoped>\n",
       "    .dataframe tbody tr th:only-of-type {\n",
       "        vertical-align: middle;\n",
       "    }\n",
       "\n",
       "    .dataframe tbody tr th {\n",
       "        vertical-align: top;\n",
       "    }\n",
       "\n",
       "    .dataframe thead th {\n",
       "        text-align: right;\n",
       "    }\n",
       "</style>\n",
       "<table border=\"1\" class=\"dataframe\">\n",
       "  <thead>\n",
       "    <tr style=\"text-align: right;\">\n",
       "      <th></th>\n",
       "      <th>location</th>\n",
       "      <th>date</th>\n",
       "      <th>vaccine</th>\n",
       "      <th>total_vaccinations</th>\n",
       "    </tr>\n",
       "  </thead>\n",
       "  <tbody>\n",
       "    <tr>\n",
       "      <th>0</th>\n",
       "      <td>Argentina</td>\n",
       "      <td>2020-12-29</td>\n",
       "      <td>Moderna</td>\n",
       "      <td>2</td>\n",
       "    </tr>\n",
       "    <tr>\n",
       "      <th>1</th>\n",
       "      <td>Argentina</td>\n",
       "      <td>2020-12-29</td>\n",
       "      <td>Oxford/AstraZeneca</td>\n",
       "      <td>3</td>\n",
       "    </tr>\n",
       "    <tr>\n",
       "      <th>2</th>\n",
       "      <td>Argentina</td>\n",
       "      <td>2020-12-29</td>\n",
       "      <td>Sinopharm/Beijing</td>\n",
       "      <td>1</td>\n",
       "    </tr>\n",
       "    <tr>\n",
       "      <th>3</th>\n",
       "      <td>Argentina</td>\n",
       "      <td>2020-12-29</td>\n",
       "      <td>Sputnik V</td>\n",
       "      <td>20481</td>\n",
       "    </tr>\n",
       "    <tr>\n",
       "      <th>4</th>\n",
       "      <td>Argentina</td>\n",
       "      <td>2020-12-30</td>\n",
       "      <td>Moderna</td>\n",
       "      <td>2</td>\n",
       "    </tr>\n",
       "  </tbody>\n",
       "</table>\n",
       "</div>"
      ],
      "text/plain": [
       "    location        date             vaccine  total_vaccinations\n",
       "0  Argentina  2020-12-29             Moderna                   2\n",
       "1  Argentina  2020-12-29  Oxford/AstraZeneca                   3\n",
       "2  Argentina  2020-12-29   Sinopharm/Beijing                   1\n",
       "3  Argentina  2020-12-29           Sputnik V               20481\n",
       "4  Argentina  2020-12-30             Moderna                   2"
      ]
     },
     "execution_count": 4,
     "metadata": {},
     "output_type": "execute_result"
    }
   ],
   "source": [
    "df_manu.head()"
   ]
  },
  {
   "cell_type": "code",
   "execution_count": 5,
   "id": "47f5c5a5",
   "metadata": {
    "execution": {
     "iopub.execute_input": "2022-10-04T22:21:07.369627Z",
     "iopub.status.busy": "2022-10-04T22:21:07.369180Z",
     "iopub.status.idle": "2022-10-04T22:21:07.385143Z",
     "shell.execute_reply": "2022-10-04T22:21:07.384264Z"
    },
    "papermill": {
     "duration": 0.027699,
     "end_time": "2022-10-04T22:21:07.387242",
     "exception": false,
     "start_time": "2022-10-04T22:21:07.359543",
     "status": "completed"
    },
    "tags": []
   },
   "outputs": [
    {
     "data": {
      "text/plain": [
       "array(['Brunei', 'India', 'Indonesia', 'Laos', 'Malaysia', 'Myanmar',\n",
       "       'Philippines', 'Singapore', 'Thailand', 'Vietnam'], dtype=object)"
      ]
     },
     "execution_count": 5,
     "metadata": {},
     "output_type": "execute_result"
    }
   ],
   "source": [
    "# Check how many SEA countries in dataset\n",
    "sea = ['Brunei', 'cambodia', 'India', 'Indonesia', 'Laos', 'Malaysia', 'Myanmar', 'Philippines', 'Singapore', 'Thailand', 'Vietnam'] # 11 countries\n",
    "df_vac[df_vac['country'].isin(sea)]['country'].unique() # 10 countries"
   ]
  }
 ],
 "metadata": {
  "kernelspec": {
   "display_name": "Python 3",
   "language": "python",
   "name": "python3"
  },
  "language_info": {
   "codemirror_mode": {
    "name": "ipython",
    "version": 3
   },
   "file_extension": ".py",
   "mimetype": "text/x-python",
   "name": "python",
   "nbconvert_exporter": "python",
   "pygments_lexer": "ipython3",
   "version": "3.7.12"
  },
  "papermill": {
   "default_parameters": {},
   "duration": 178.318949,
   "end_time": "2022-10-04T22:23:53.092841",
   "environment_variables": {},
   "exception": null,
   "input_path": "__notebook__.ipynb",
   "output_path": "__notebook__.ipynb",
   "parameters": {},
   "start_time": "2022-10-04T22:20:54.773892",
   "version": "2.3.4"
  }
 },
 "nbformat": 4,
 "nbformat_minor": 5
}
